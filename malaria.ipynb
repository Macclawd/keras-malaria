{
 "cells": [
  {
   "cell_type": "code",
   "execution_count": 1,
   "metadata": {},
   "outputs": [
    {
     "name": "stderr",
     "output_type": "stream",
     "text": [
      "Using TensorFlow backend.\n"
     ]
    }
   ],
   "source": [
    "import os\n",
    "import cv2\n",
    "\n",
    "import numpy as np\n",
    "from PIL import Image\n",
    "\n",
    "import keras\n",
    "from keras.utils import np_utils\n",
    "from keras.models import Sequential\n",
    "from keras.layers import Conv2D,Dropout,Dense,Flatten,MaxPooling2D"
   ]
  },
  {
   "cell_type": "code",
   "execution_count": 2,
   "metadata": {},
   "outputs": [],
   "source": [
    "# Lista todas as imagens de cada pasta\n",
    "imagensUninfected=os.listdir(\"./data/Uninfected/\")\n",
    "imagensParasitized=os.listdir(\"./data/Parasitized/\")\n",
    "\n",
    "imagens=[]\n",
    "classes=[]\n",
    "\n",
    "for nome_imagem in imagensUninfected:\n",
    "    # Lê a imagem, transformando-a em um array\n",
    "    cv_imagem=cv2.imread(\"./data/Uninfected/\"+nome_imagem)\n",
    "    # Transforma o array novamente em imagem RGB\n",
    "    # e a redimensiona para 50x50 pixels\n",
    "    pil_imagem = Image.fromarray(cv_imagem, 'RGB')\n",
    "    imagem_50px = pil_imagem.resize((50, 50))\n",
    "    # Converte a imagem redimensionada em array \n",
    "    # novamente e a adiciona ao data\n",
    "    imagens.append(np.array(imagem_50px))\n",
    "    # Adiciona o 0 labels\n",
    "    classes.append(0)\n",
    "\n",
    "for nome_imagem in imagensParasitized:\n",
    "    cv_imagem=cv2.imread(\"./data/Parasitized/\"+nome_imagem)\n",
    "    pil_imagem = Image.fromarray(cv_imagem, 'RGB')\n",
    "    imagem_50px = pil_imagem.resize((50, 50))\n",
    "    imagens.append(np.array(imagem_50px))\n",
    "    classes.append(1)\n"
   ]
  },
  {
   "cell_type": "code",
   "execution_count": 3,
   "metadata": {},
   "outputs": [],
   "source": [
    "imagens=np.array(imagens)\n",
    "classes=np.array(classes)\n",
    "\n",
    "# Criamos um array aleatório com as posições\n",
    "# do nosso array de imagens\n",
    "posicoes=np.arange(imagens.shape[0])\n",
    "np.random.shuffle(posicoes)\n",
    "imagens = imagens[posicoes]\n",
    "classes = classes[posicoes]\n",
    "\n",
    "# Dividindo nossos dados em treino e teste\n",
    "treino_X = (imagens[(int)(0.1*len(imagens)):]).astype('float32')/255\n",
    "teste_X  = (imagens[:(int)(0.1*len(imagens))]).astype('float32')/255\n",
    "\n",
    "# Dividindo nossas classes em treino e teste\n",
    "treino_Y = keras.utils.to_categorical(classes[(int)(0.1*len(classes)):],2)\n",
    "teste_Y  = keras.utils.to_categorical(classes[:(int)(0.1*len(classes))],2)\n",
    "\n"
   ]
  },
  {
   "cell_type": "code",
   "execution_count": 4,
   "metadata": {},
   "outputs": [
    {
     "name": "stderr",
     "output_type": "stream",
     "text": [
      "WARNING: Logging before flag parsing goes to stderr.\n",
      "W0207 23:14:45.856298 140457270982464 deprecation.py:506] From /home/macclawd/.local/lib/python3.6/site-packages/keras/backend/tensorflow_backend.py:3445: calling dropout (from tensorflow.python.ops.nn_ops) with keep_prob is deprecated and will be removed in a future version.\n",
      "Instructions for updating:\n",
      "Please use `rate` instead of `keep_prob`. Rate should be set to `rate = 1 - keep_prob`.\n"
     ]
    },
    {
     "name": "stdout",
     "output_type": "stream",
     "text": [
      "_________________________________________________________________\n",
      "Layer (type)                 Output Shape              Param #   \n",
      "=================================================================\n",
      "conv2d_1 (Conv2D)            (None, 50, 50, 16)        208       \n",
      "_________________________________________________________________\n",
      "max_pooling2d_1 (MaxPooling2 (None, 25, 25, 16)        0         \n",
      "_________________________________________________________________\n",
      "conv2d_2 (Conv2D)            (None, 25, 25, 32)        2080      \n",
      "_________________________________________________________________\n",
      "max_pooling2d_2 (MaxPooling2 (None, 12, 12, 32)        0         \n",
      "_________________________________________________________________\n",
      "conv2d_3 (Conv2D)            (None, 12, 12, 64)        8256      \n",
      "_________________________________________________________________\n",
      "max_pooling2d_3 (MaxPooling2 (None, 6, 6, 64)          0         \n",
      "_________________________________________________________________\n",
      "conv2d_4 (Conv2D)            (None, 6, 6, 64)          16448     \n",
      "_________________________________________________________________\n",
      "max_pooling2d_4 (MaxPooling2 (None, 3, 3, 64)          0         \n",
      "_________________________________________________________________\n",
      "dropout_1 (Dropout)          (None, 3, 3, 64)          0         \n",
      "_________________________________________________________________\n",
      "flatten_1 (Flatten)          (None, 576)               0         \n",
      "_________________________________________________________________\n",
      "dense_1 (Dense)              (None, 500)               288500    \n",
      "_________________________________________________________________\n",
      "dropout_2 (Dropout)          (None, 500)               0         \n",
      "_________________________________________________________________\n",
      "dense_2 (Dense)              (None, 2)                 1002      \n",
      "=================================================================\n",
      "Total params: 316,494\n",
      "Trainable params: 316,494\n",
      "Non-trainable params: 0\n",
      "_________________________________________________________________\n"
     ]
    }
   ],
   "source": [
    "# Modelo sequencial \n",
    "model=Sequential()\n",
    "model.add(Conv2D(filters=16,kernel_size=2,padding=\"same\",activation=\"relu\",\n",
    "                                                    input_shape=(50,50,3)))\n",
    "model.add(MaxPooling2D(pool_size=2))\n",
    "model.add(Conv2D(filters=32,kernel_size=2,padding=\"same\",activation=\"relu\"))\n",
    "model.add(MaxPooling2D(pool_size=2))\n",
    "model.add(Conv2D(filters=64,kernel_size=2,padding=\"same\",activation=\"relu\"))\n",
    "model.add(MaxPooling2D(pool_size=2))\n",
    "model.add(Conv2D(filters=64,kernel_size=2,padding=\"same\",activation=\"relu\"))\n",
    "model.add(MaxPooling2D(pool_size=2))\n",
    "model.add(Dropout(0.2))\n",
    "model.add(Flatten())\n",
    "model.add(Dense(500,activation=\"relu\"))\n",
    "model.add(Dropout(0.2))\n",
    "model.add(Dense(2,activation=\"softmax\"))\n",
    "model.summary()"
   ]
  },
  {
   "cell_type": "code",
   "execution_count": 5,
   "metadata": {},
   "outputs": [],
   "source": [
    "model.compile(loss='categorical_crossentropy', optimizer='adam', metrics=['accuracy'])"
   ]
  },
  {
   "cell_type": "code",
   "execution_count": 6,
   "metadata": {},
   "outputs": [
    {
     "name": "stdout",
     "output_type": "stream",
     "text": [
      "Epoch 1/30\n",
      "24803/24803 [==============================] - 29s 1ms/step - loss: 0.3243 - acc: 0.8425\n",
      "Epoch 2/30\n",
      "24803/24803 [==============================] - 24s 971us/step - loss: 0.1477 - acc: 0.9537\n",
      "Epoch 3/30\n",
      "24803/24803 [==============================] - 24s 979us/step - loss: 0.1358 - acc: 0.9563\n",
      "Epoch 4/30\n",
      "24803/24803 [==============================] - 24s 973us/step - loss: 0.1287 - acc: 0.9588\n",
      "Epoch 5/30\n",
      "24803/24803 [==============================] - 24s 974us/step - loss: 0.1202 - acc: 0.9601\n",
      "Epoch 6/30\n",
      "24803/24803 [==============================] - 24s 974us/step - loss: 0.1166 - acc: 0.9605\n",
      "Epoch 7/30\n",
      "24803/24803 [==============================] - 24s 980us/step - loss: 0.1081 - acc: 0.9626\n",
      "Epoch 8/30\n",
      "24803/24803 [==============================] - 24s 974us/step - loss: 0.1060 - acc: 0.9637\n",
      "Epoch 9/30\n",
      "24803/24803 [==============================] - 24s 980us/step - loss: 0.1002 - acc: 0.9654\n",
      "Epoch 10/30\n",
      "24803/24803 [==============================] - 23s 929us/step - loss: 0.0947 - acc: 0.9670\n",
      "Epoch 11/30\n",
      "24803/24803 [==============================] - 18s 723us/step - loss: 0.0895 - acc: 0.9688\n",
      "Epoch 12/30\n",
      "24803/24803 [==============================] - 18s 723us/step - loss: 0.0846 - acc: 0.9700\n",
      "Epoch 13/30\n",
      "24803/24803 [==============================] - 24s 951us/step - loss: 0.0770 - acc: 0.9724\n",
      "Epoch 14/30\n",
      "24803/24803 [==============================] - 24s 983us/step - loss: 0.0714 - acc: 0.9738\n",
      "Epoch 15/30\n",
      "24803/24803 [==============================] - 24s 986us/step - loss: 0.0679 - acc: 0.9758\n",
      "Epoch 16/30\n",
      "24803/24803 [==============================] - 25s 1ms/step - loss: 0.0629 - acc: 0.9767\n",
      "Epoch 17/30\n",
      "24803/24803 [==============================] - 24s 985us/step - loss: 0.0564 - acc: 0.9797\n",
      "Epoch 18/30\n",
      "24803/24803 [==============================] - 25s 992us/step - loss: 0.0555 - acc: 0.9792\n",
      "Epoch 19/30\n",
      "24803/24803 [==============================] - 24s 986us/step - loss: 0.0473 - acc: 0.9826\n",
      "Epoch 20/30\n",
      "24803/24803 [==============================] - 24s 984us/step - loss: 0.0470 - acc: 0.9829\n",
      "Epoch 21/30\n",
      "24803/24803 [==============================] - 25s 993us/step - loss: 0.0423 - acc: 0.9847\n",
      "Epoch 22/30\n",
      "24803/24803 [==============================] - 25s 999us/step - loss: 0.0410 - acc: 0.9846\n",
      "Epoch 23/30\n",
      "24803/24803 [==============================] - 24s 984us/step - loss: 0.0358 - acc: 0.9864\n",
      "Epoch 24/30\n",
      "24803/24803 [==============================] - 24s 986us/step - loss: 0.0355 - acc: 0.9875\n",
      "Epoch 25/30\n",
      "24803/24803 [==============================] - 24s 987us/step - loss: 0.0332 - acc: 0.9886\n",
      "Epoch 26/30\n",
      "24803/24803 [==============================] - 24s 980us/step - loss: 0.0303 - acc: 0.9892\n",
      "Epoch 27/30\n",
      "24803/24803 [==============================] - 24s 960us/step - loss: 0.0279 - acc: 0.9895\n",
      "Epoch 28/30\n",
      "24803/24803 [==============================] - 25s 997us/step - loss: 0.0277 - acc: 0.9902\n",
      "Epoch 29/30\n",
      "24803/24803 [==============================] - 24s 985us/step - loss: 0.0304 - acc: 0.9896\n",
      "Epoch 30/30\n",
      "24803/24803 [==============================] - 24s 987us/step - loss: 0.0271 - acc: 0.9899\n"
     ]
    },
    {
     "data": {
      "text/plain": [
       "<keras.callbacks.History at 0x7fbe3dc9bac8>"
      ]
     },
     "execution_count": 6,
     "metadata": {},
     "output_type": "execute_result"
    }
   ],
   "source": [
    "model.fit(treino_X,treino_Y,batch_size=50,epochs=30,verbose=1)"
   ]
  },
  {
   "cell_type": "code",
   "execution_count": 9,
   "metadata": {},
   "outputs": [
    {
     "name": "stdout",
     "output_type": "stream",
     "text": [
      "2755/2755 [==============================] - 1s 392us/step\n"
     ]
    },
    {
     "data": {
      "text/plain": [
       "[0.2325193250898108, 0.9560798548094374]"
      ]
     },
     "execution_count": 9,
     "metadata": {},
     "output_type": "execute_result"
    }
   ],
   "source": [
    "model.evaluate(teste_X, teste_Y, verbose=1)"
   ]
  },
  {
   "cell_type": "code",
   "execution_count": 11,
   "metadata": {},
   "outputs": [
    {
     "name": "stdout",
     "output_type": "stream",
     "text": [
      "2755/2755 [==============================] - 1s 405us/step\n",
      "0.9560798548094374\n"
     ]
    }
   ],
   "source": [
    "accuracy = model.evaluate(teste_X, teste_Y, verbose=1)\n",
    "print(accuracy[1])"
   ]
  },
  {
   "cell_type": "code",
   "execution_count": null,
   "metadata": {},
   "outputs": [],
   "source": [
    "C39P4thinF_original_IMG_20150622_105253_cell_94.png"
   ]
  },
  {
   "cell_type": "code",
   "execution_count": 19,
   "metadata": {},
   "outputs": [
    {
     "name": "stdout",
     "output_type": "stream",
     "text": [
      "Parasitized\n"
     ]
    }
   ],
   "source": [
    "imagem = cv2.imread('./data/Parasitized/C39P4thinF_original_IMG_20150622_105253_cell_94.png')\n",
    "pil_imagem = Image.fromarray(imagem, 'RGB')\n",
    "imagem_50px = pil_imagem.resize((50, 50))\n",
    "imagem_arr = np.array([np.array(imagem_50px)/255])\n",
    "result=np.argmax(model.predict(imagem_arr))\n",
    "if result == 1:\n",
    "    print('Parasitized')\n",
    "elif result == 0:\n",
    "    print('Uninfected')\n"
   ]
  }
 ],
 "metadata": {
  "kernelspec": {
   "display_name": "Python 3",
   "language": "python",
   "name": "python3"
  },
  "language_info": {
   "codemirror_mode": {
    "name": "ipython",
    "version": 3
   },
   "file_extension": ".py",
   "mimetype": "text/x-python",
   "name": "python",
   "nbconvert_exporter": "python",
   "pygments_lexer": "ipython3",
   "version": "3.6.7"
  }
 },
 "nbformat": 4,
 "nbformat_minor": 2
}
