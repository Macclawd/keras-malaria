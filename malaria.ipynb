{
 "cells": [
  {
   "cell_type": "code",
   "execution_count": null,
   "metadata": {},
   "outputs": [],
   "source": [
    "import os\n",
    "import cv2\n",
    "\n",
    "import numpy as np\n",
    "from PIL import Image\n",
    "\n",
    "import keras\n",
    "from keras.utils import np_utils\n",
    "from keras.models import Sequential\n",
    "from keras.layers import Conv2D,Dropout,Dense,Flatten,MaxPooling2D"
   ]
  },
  {
   "cell_type": "code",
   "execution_count": null,
   "metadata": {},
   "outputs": [],
   "source": [
    "# Lista todas as imagens de cada pasta\n",
    "imagensUninfected=os.listdir(\"./data/Uninfected/\")\n",
    "imagensParasitized=os.listdir(\"./data/Parasitized/\")\n",
    "\n",
    "imagens=[]\n",
    "classes=[]\n",
    "\n",
    "for nome_imagem in imagensUninfected:\n",
    "    # Lê a imagem, transformando-a em um array\n",
    "    cv_imagem=cv2.imread(\"./data/Uninfected/\"+nome_imagem)\n",
    "    # Transforma o array novamente em imagem RGB\n",
    "    # e a redimensiona para 50x50 pixels\n",
    "    pil_imagem = Image.fromarray(cv_imagem, 'RGB')\n",
    "    imagem_50px = pil_imagem.resize((50, 50))\n",
    "    # Converte a imagem redimensionada em array \n",
    "    # novamente e a adiciona ao data\n",
    "    imagens.append(np.array(imagem_50px))\n",
    "    # Adiciona o 0 labels\n",
    "    classes.append(0)\n",
    "\n",
    "for nome_imagem in imagensParasitized:\n",
    "    cv_imagem=cv2.imread(\"./data/Parasitized/\"+nome_imagem)\n",
    "    pil_imagem = Image.fromarray(cv_imagem, 'RGB')\n",
    "    imagem_50px = pil_imagem.resize((50, 50))\n",
    "    imagens.append(np.array(imagem_50px))\n",
    "    classes.append(1)\n"
   ]
  },
  {
   "cell_type": "code",
   "execution_count": null,
   "metadata": {},
   "outputs": [],
   "source": [
    "imagens=np.array(imagens)\n",
    "classes=np.array(classes)\n",
    "\n",
    "# Criamos um array aleatório com as posições\n",
    "# do nosso array de imagens\n",
    "posicoes=np.arange(imagens.shape[0])\n",
    "np.random.shuffle(posicoes)\n",
    "imagens = imagens[posicoes]\n",
    "classes = classes[posicoes]\n",
    "\n",
    "# Dividindo nossos dados em treino e teste\n",
    "treino_X = (imagens[(int)(0.1*len(imagens)):]).astype('float32')/255\n",
    "teste_X  = (imagens[:(int)(0.1*len(imagens))]).astype('float32')/255\n",
    "\n",
    "# Dividindo nossas classes em treino e teste\n",
    "treino_Y = keras.utils.to_categorical(classes[(int)(0.1*len(classes)):],2)\n",
    "teste_Y  = keras.utils.to_categorical(classes[:(int)(0.1*len(classes))],2)\n",
    "\n"
   ]
  },
  {
   "cell_type": "code",
   "execution_count": null,
   "metadata": {},
   "outputs": [],
   "source": [
    "# Modelo sequencial \n",
    "model=Sequential()\n",
    "model.add(Conv2D(filters=16,kernel_size=2,padding=\"same\",activation=\"relu\",\n",
    "                                                    input_shape=(50,50,3)))\n",
    "model.add(MaxPooling2D(pool_size=2))\n",
    "model.add(Conv2D(filters=32,kernel_size=2,padding=\"same\",activation=\"relu\"))\n",
    "model.add(MaxPooling2D(pool_size=2))\n",
    "model.add(Conv2D(filters=64,kernel_size=2,padding=\"same\",activation=\"relu\"))\n",
    "model.add(MaxPooling2D(pool_size=2))\n",
    "model.add(Conv2D(filters=64,kernel_size=2,padding=\"same\",activation=\"relu\"))\n",
    "model.add(MaxPooling2D(pool_size=2))\n",
    "model.add(Dropout(0.2))\n",
    "model.add(Flatten())\n",
    "model.add(Dense(500,activation=\"relu\"))\n",
    "model.add(Dropout(0.2))\n",
    "model.add(Dense(2,activation=\"softmax\"))\n",
    "model.summary()"
   ]
  },
  {
   "cell_type": "code",
   "execution_count": null,
   "metadata": {},
   "outputs": [],
   "source": [
    "model.compile(loss='categorical_crossentropy', optimizer='adam', metrics=['accuracy'])"
   ]
  },
  {
   "cell_type": "code",
   "execution_count": null,
   "metadata": {},
   "outputs": [],
   "source": [
    "model.fit(treino_X,treino_Y,batch_size=50,epochs=30,verbose=1)"
   ]
  },
  {
   "cell_type": "code",
   "execution_count": null,
   "metadata": {},
   "outputs": [],
   "source": [
    "model.evaluate(teste_X, teste_Y, verbose=1)"
   ]
  },
  {
   "cell_type": "code",
   "execution_count": null,
   "metadata": {},
   "outputs": [],
   "source": [
    "accuracy = model.evaluate(teste_X, teste_Y, verbose=1)\n",
    "print(accuracy[1])"
   ]
  },
  {
   "cell_type": "code",
   "execution_count": null,
   "metadata": {},
   "outputs": [],
   "source": [
    "imagem = cv2.imread('./data/Parasitized/C39P4thinF_original_IMG_20150622_105253_cell_94.png')\n",
    "pil_imagem = Image.fromarray(imagem, 'RGB')\n",
    "imagem_50px = pil_imagem.resize((50, 50))\n",
    "imagem_arr = np.array([np.array(imagem_50px)/255])\n",
    "result=np.argmax(model.predict(imagem_arr))\n",
    "if result == 1:\n",
    "    print('Parasitized')\n",
    "elif result == 0:\n",
    "    print('Uninfected')\n"
   ]
  }
 ],
 "metadata": {
  "kernelspec": {
   "display_name": "Python 3",
   "language": "python",
   "name": "python3"
  },
  "language_info": {
   "codemirror_mode": {
    "name": "ipython",
    "version": 3
   },
   "file_extension": ".py",
   "mimetype": "text/x-python",
   "name": "python",
   "nbconvert_exporter": "python",
   "pygments_lexer": "ipython3",
   "version": "3.6.7"
  }
 },
 "nbformat": 4,
 "nbformat_minor": 2
}
